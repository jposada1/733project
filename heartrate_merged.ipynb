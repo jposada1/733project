{
 "cells": [
  {
   "cell_type": "code",
   "execution_count": 2,
   "id": "b46538c1-190a-4025-b9b8-939682a0f3a2",
   "metadata": {},
   "outputs": [],
   "source": [
    "import pandas as pd\n",
    "import glob"
   ]
  },
  {
   "cell_type": "code",
   "execution_count": 7,
   "id": "bc30bd50-c67a-4b3e-a66a-69ab4bfc080a",
   "metadata": {},
   "outputs": [],
   "source": [
    "# Step 1: Load All Files into Python\n",
    "# Get all CSV files from the directory (adjust the path accordingly)\n",
    "file_paths = glob.glob(\"/Users/jenniferposada/Desktop/733/733 project/fitbit_data/heart_rate/heart_rate_*.csv\")\n",
    "\n",
    "# Check if any files were found\n",
    "if not file_paths:\n",
    "    raise ValueError(\"No files found in the specified directory.\")\n",
    "\n",
    "# Load each CSV file into a DataFrame and store them in a list\n",
    "dataframes = [pd.read_csv(file) for file in file_paths]\n"
   ]
  },
  {
   "cell_type": "code",
   "execution_count": 8,
   "id": "8d0a7356-fb67-415e-bf99-b61413bfb179",
   "metadata": {},
   "outputs": [],
   "source": [
    "# Step 2: Concatenate All DataFrames\n",
    "# Combine all DataFrames into one\n",
    "combined_df = pd.concat(dataframes, ignore_index=True)"
   ]
  },
  {
   "cell_type": "code",
   "execution_count": 9,
   "id": "bc42304a-6e34-4837-85d5-019310bc5c64",
   "metadata": {},
   "outputs": [],
   "source": [
    "# Step 3: Handle Overlapping Data\n",
    "# Drop duplicates based on the timestamp column to ensure no overlaps\n",
    "combined_df.drop_duplicates(subset='timestamp', keep='first', inplace=True)"
   ]
  },
  {
   "cell_type": "code",
   "execution_count": 10,
   "id": "6965205b-a02d-4465-a78b-3ff920c2742f",
   "metadata": {},
   "outputs": [],
   "source": [
    "# Step 4: Convert Timestamp to Datetime and Add Month Column\n",
    "# Assuming 'timestamp' is the name of your time column\n",
    "# Convert timestamp to datetime format\n",
    "combined_df['timestamp'] = pd.to_datetime(combined_df['timestamp'], errors='coerce')"
   ]
  },
  {
   "cell_type": "code",
   "execution_count": 11,
   "id": "8810c494-a921-4953-add1-5a32adcd6785",
   "metadata": {},
   "outputs": [],
   "source": [
    "# Extract month and year to create a new month column while preserving timezone information\n",
    "combined_df['month'] = combined_df['timestamp'].dt.strftime('%Y-%m')\n"
   ]
  },
  {
   "cell_type": "code",
   "execution_count": 14,
   "id": "8725fda7-9975-4d33-b06d-eda0caf9acaa",
   "metadata": {},
   "outputs": [
    {
     "name": "stdout",
     "output_type": "stream",
     "text": [
      "Column Names: Index(['timestamp', 'beats per minute', 'month'], dtype='object')\n",
      "                  timestamp  beats per minute    month\n",
      "0 2024-06-27 00:00:03+00:00             100.0  2024-06\n",
      "1 2024-06-27 00:00:08+00:00             101.0  2024-06\n",
      "2 2024-06-27 00:00:23+00:00             102.0  2024-06\n",
      "3 2024-06-27 00:00:33+00:00             103.0  2024-06\n",
      "4 2024-06-27 00:00:38+00:00             104.0  2024-06\n"
     ]
    }
   ],
   "source": [
    "# Step 5: Print the first few rows to verify, including the new month column\n",
    "print(\"Column Names:\", combined_df.columns)\n",
    "print(combined_df[['timestamp', 'beats per minute', 'month']].head())"
   ]
  },
  {
   "cell_type": "code",
   "execution_count": 16,
   "id": "68dc12c1-ae88-4463-8ea2-a1470fa6d1b9",
   "metadata": {},
   "outputs": [
    {
     "name": "stdout",
     "output_type": "stream",
     "text": [
      "Timestamp conversion complete. Saved to 'combined_heart_rate_with_month.csv'\n"
     ]
    }
   ],
   "source": [
    "# Step 6: Save the Data with Month Column\n",
    "# Save combined DataFrame with Month column to a new CSV file\n",
    "combined_df.to_csv(\"/Users/jenniferposada/Desktop/733/733 project/fitbit_data/heart_rate/combined_heart_rate_with_month.csv\", index=False)\n",
    "\n",
    "print(\"Timestamp conversion complete. Saved to 'combined_heart_rate_with_month.csv'\")\n"
   ]
  },
  {
   "cell_type": "code",
   "execution_count": 17,
   "id": "2588af84-a381-4fad-9730-0e76c7f9742f",
   "metadata": {},
   "outputs": [
    {
     "name": "stdout",
     "output_type": "stream",
     "text": [
      "Number of Rows and Columns: (3531579, 3)\n",
      "Data Types:\n",
      "timestamp           datetime64[ns, UTC]\n",
      "beats per minute                float64\n",
      "month                            object\n",
      "dtype: object\n"
     ]
    }
   ],
   "source": [
    "# Number of rows and columns\n",
    "print(\"Number of Rows and Columns:\", combined_df.shape)\n",
    "\n",
    "# Data types of each column\n",
    "print(\"Data Types:\")\n",
    "print(combined_df.dtypes)\n"
   ]
  },
  {
   "cell_type": "code",
   "execution_count": 19,
   "id": "e7befe89-94f9-4e9f-92ed-c9a0d928603c",
   "metadata": {},
   "outputs": [
    {
     "name": "stdout",
     "output_type": "stream",
     "text": [
      "Summary Statistics:\n",
      "         beats per minute\n",
      "min            45.000000\n",
      "max           211.000000\n",
      "mean           92.868203\n",
      "median         93.000000\n",
      "IQR            23.000000\n"
     ]
    }
   ],
   "source": [
    "summary_stats = combined_df[['beats per minute']].agg(['min', 'max', 'mean', 'median', lambda x: x.quantile(0.75) - x.quantile(0.25)]).rename(index={'<lambda>': 'IQR'})\n",
    "print(\"Summary Statistics:\\n\", summary_stats)\n"
   ]
  },
  {
   "cell_type": "code",
   "execution_count": 20,
   "id": "235962a2-94e0-4124-9f19-aac5f5980b14",
   "metadata": {},
   "outputs": [
    {
     "name": "stdout",
     "output_type": "stream",
     "text": [
      "Max Heart Rate Value:\n",
      " timestamp           2024-03-25 04:53:58+00:00\n",
      "beats per minute                        211.0\n",
      "Name: 3184602, dtype: object\n"
     ]
    }
   ],
   "source": [
    "max_value_row = combined_df.loc[combined_df['beats per minute'].idxmax()]\n",
    "print(\"Max Heart Rate Value:\\n\", max_value_row[['timestamp', 'beats per minute']])\n"
   ]
  },
  {
   "cell_type": "code",
   "execution_count": null,
   "id": "c51faa77-b978-46a0-8b77-68992e2b731e",
   "metadata": {},
   "outputs": [],
   "source": []
  }
 ],
 "metadata": {
  "kernelspec": {
   "display_name": "Python 3 (ipykernel)",
   "language": "python",
   "name": "python3"
  },
  "language_info": {
   "codemirror_mode": {
    "name": "ipython",
    "version": 3
   },
   "file_extension": ".py",
   "mimetype": "text/x-python",
   "name": "python",
   "nbconvert_exporter": "python",
   "pygments_lexer": "ipython3",
   "version": "3.12.4"
  }
 },
 "nbformat": 4,
 "nbformat_minor": 5
}
